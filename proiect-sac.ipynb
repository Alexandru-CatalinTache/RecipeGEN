{
 "cells": [
  {
   "cell_type": "code",
   "execution_count": 1,
   "id": "9eea0e10",
   "metadata": {
    "_cell_guid": "b1076dfc-b9ad-4769-8c92-a6c4dae69d19",
    "_uuid": "8f2839f25d086af736a60e9eeb907d3b93b6e0e5",
    "execution": {
     "iopub.execute_input": "2023-11-13T10:59:40.129608Z",
     "iopub.status.busy": "2023-11-13T10:59:40.129299Z",
     "iopub.status.idle": "2023-11-13T10:59:41.077370Z",
     "shell.execute_reply": "2023-11-13T10:59:41.076435Z"
    },
    "papermill": {
     "duration": 0.956118,
     "end_time": "2023-11-13T10:59:41.079721",
     "exception": false,
     "start_time": "2023-11-13T10:59:40.123603",
     "status": "completed"
    },
    "tags": []
   },
   "outputs": [
    {
     "name": "stderr",
     "output_type": "stream",
     "text": [
      "/opt/conda/lib/python3.10/site-packages/scipy/__init__.py:146: UserWarning: A NumPy version >=1.16.5 and <1.23.0 is required for this version of SciPy (detected version 1.24.3\n",
      "  warnings.warn(f\"A NumPy version >={np_minversion} and <{np_maxversion}\"\n"
     ]
    }
   ],
   "source": [
    "from sklearn.metrics.pairwise import cosine_similarity\n",
    "from sklearn.feature_extraction.text import TfidfVectorizer\n",
    "import json"
   ]
  },
  {
   "cell_type": "code",
   "execution_count": 2,
   "id": "cb2a5ba4",
   "metadata": {
    "execution": {
     "iopub.execute_input": "2023-11-13T10:59:41.090038Z",
     "iopub.status.busy": "2023-11-13T10:59:41.089455Z",
     "iopub.status.idle": "2023-11-13T10:59:43.426332Z",
     "shell.execute_reply": "2023-11-13T10:59:43.425424Z"
    },
    "papermill": {
     "duration": 2.344176,
     "end_time": "2023-11-13T10:59:43.428598",
     "exception": false,
     "start_time": "2023-11-13T10:59:41.084422",
     "status": "completed"
    },
    "tags": []
   },
   "outputs": [],
   "source": [
    "f = open('/kaggle/input/recipes/recipes.json')\n",
    "recipes = json.load(f)"
   ]
  },
  {
   "cell_type": "code",
   "execution_count": 3,
   "id": "473c8a56",
   "metadata": {
    "execution": {
     "iopub.execute_input": "2023-11-13T10:59:43.438609Z",
     "iopub.status.busy": "2023-11-13T10:59:43.438313Z",
     "iopub.status.idle": "2023-11-13T10:59:43.457688Z",
     "shell.execute_reply": "2023-11-13T10:59:43.456985Z"
    },
    "papermill": {
     "duration": 0.026261,
     "end_time": "2023-11-13T10:59:43.459588",
     "exception": false,
     "start_time": "2023-11-13T10:59:43.433327",
     "status": "completed"
    },
    "tags": []
   },
   "outputs": [],
   "source": [
    "for recipe in recipes:\n",
    "    if (\"aggregateRating\" not in recipe):\n",
    "        recipe[\"aggregateRating\"] = {}\n",
    "        recipe[\"aggregateRating\"][\"ratingValue\"] = \"-\""
   ]
  },
  {
   "cell_type": "code",
   "execution_count": 4,
   "id": "3c98de0f",
   "metadata": {
    "execution": {
     "iopub.execute_input": "2023-11-13T10:59:43.469250Z",
     "iopub.status.busy": "2023-11-13T10:59:43.468717Z",
     "iopub.status.idle": "2023-11-13T10:59:43.557340Z",
     "shell.execute_reply": "2023-11-13T10:59:43.556437Z"
    },
    "papermill": {
     "duration": 0.095886,
     "end_time": "2023-11-13T10:59:43.559649",
     "exception": false,
     "start_time": "2023-11-13T10:59:43.463763",
     "status": "completed"
    },
    "tags": []
   },
   "outputs": [],
   "source": [
    "recipe_info = [\n",
    "    {\n",
    "        \"name\": recipe.get(\"name\", \"Recipe Name Not Found\"),\n",
    "        \"category\": recipe.get(\"recipeCategory\", \"Category Not Found\"),\n",
    "        \"ingredients\": ' '.join(recipe.get(\"recipeIngredient\", [])),  # Convert list to string\n",
    "        \"calories\": recipe.get(\"nutrition\", {}).get(\"calories\"),\n",
    "        \"rating\": recipe.get(\"aggregateRating\", {}).get(\"ratingValue\"),\n",
    "        \"totalTime\": recipe.get(\"totalTime\")\n",
    "    }\n",
    "    for recipe in recipes\n",
    "]"
   ]
  },
  {
   "cell_type": "code",
   "execution_count": 5,
   "id": "4124f4d5",
   "metadata": {
    "execution": {
     "iopub.execute_input": "2023-11-13T10:59:43.569200Z",
     "iopub.status.busy": "2023-11-13T10:59:43.568885Z",
     "iopub.status.idle": "2023-11-13T10:59:43.606869Z",
     "shell.execute_reply": "2023-11-13T10:59:43.606114Z"
    },
    "papermill": {
     "duration": 0.04492,
     "end_time": "2023-11-13T10:59:43.608902",
     "exception": false,
     "start_time": "2023-11-13T10:59:43.563982",
     "status": "completed"
    },
    "tags": []
   },
   "outputs": [],
   "source": [
    "recipe_strings = [' '.join(\n",
    "    [recipe[\"category\"], \n",
    "     recipe[\"ingredients\"],\n",
    "     recipe[\"calories\"],\n",
    "     recipe[\"totalTime\"],\n",
    "     recipe[\"rating\"]]) for recipe in recipe_info]"
   ]
  },
  {
   "cell_type": "code",
   "execution_count": 6,
   "id": "23761f00",
   "metadata": {
    "execution": {
     "iopub.execute_input": "2023-11-13T10:59:43.619257Z",
     "iopub.status.busy": "2023-11-13T10:59:43.618424Z",
     "iopub.status.idle": "2023-11-13T10:59:45.036423Z",
     "shell.execute_reply": "2023-11-13T10:59:45.035637Z"
    },
    "papermill": {
     "duration": 1.425238,
     "end_time": "2023-11-13T10:59:45.038619",
     "exception": false,
     "start_time": "2023-11-13T10:59:43.613381",
     "status": "completed"
    },
    "tags": []
   },
   "outputs": [],
   "source": [
    "vectorizer = TfidfVectorizer()\n",
    "vectorized_data = vectorizer.fit_transform(recipe_strings)"
   ]
  },
  {
   "cell_type": "code",
   "execution_count": 7,
   "id": "3282bf36",
   "metadata": {
    "execution": {
     "iopub.execute_input": "2023-11-13T10:59:45.048249Z",
     "iopub.status.busy": "2023-11-13T10:59:45.047866Z",
     "iopub.status.idle": "2023-11-13T11:00:23.655882Z",
     "shell.execute_reply": "2023-11-13T11:00:23.654738Z"
    },
    "papermill": {
     "duration": 38.615418,
     "end_time": "2023-11-13T11:00:23.658378",
     "exception": false,
     "start_time": "2023-11-13T10:59:45.042960",
     "status": "completed"
    },
    "tags": []
   },
   "outputs": [],
   "source": [
    "cosine_similarities = cosine_similarity(vectorized_data)"
   ]
  },
  {
   "cell_type": "code",
   "execution_count": 8,
   "id": "0d04570c",
   "metadata": {
    "execution": {
     "iopub.execute_input": "2023-11-13T11:00:23.668872Z",
     "iopub.status.busy": "2023-11-13T11:00:23.668148Z",
     "iopub.status.idle": "2023-11-13T11:00:23.673248Z",
     "shell.execute_reply": "2023-11-13T11:00:23.672263Z"
    },
    "papermill": {
     "duration": 0.012769,
     "end_time": "2023-11-13T11:00:23.675673",
     "exception": false,
     "start_time": "2023-11-13T11:00:23.662904",
     "status": "completed"
    },
    "tags": []
   },
   "outputs": [
    {
     "name": "stdout",
     "output_type": "stream",
     "text": [
      "[1.         0.0290413  0.01037295 ... 0.         0.05587729 0.00661247]\n"
     ]
    }
   ],
   "source": [
    "print(cosine_similarities[0])"
   ]
  },
  {
   "cell_type": "code",
   "execution_count": 9,
   "id": "37bb1778",
   "metadata": {
    "execution": {
     "iopub.execute_input": "2023-11-13T11:00:23.685490Z",
     "iopub.status.busy": "2023-11-13T11:00:23.685229Z",
     "iopub.status.idle": "2023-11-13T11:00:23.690143Z",
     "shell.execute_reply": "2023-11-13T11:00:23.689296Z"
    },
    "papermill": {
     "duration": 0.01287,
     "end_time": "2023-11-13T11:00:23.692772",
     "exception": false,
     "start_time": "2023-11-13T11:00:23.679902",
     "status": "completed"
    },
    "tags": []
   },
   "outputs": [
    {
     "name": "stdout",
     "output_type": "stream",
     "text": [
      "[[1.         0.0290413  0.01037295 ... 0.         0.05587729 0.00661247]\n",
      " [0.0290413  1.         0.00503506 ... 0.03878908 0.05861981 0.0115287 ]\n",
      " [0.01037295 0.00503506 1.         ... 0.10397769 0.01734298 0.12171097]\n",
      " ...\n",
      " [0.         0.03878908 0.10397769 ... 1.         0.         0.18517438]\n",
      " [0.05587729 0.05861981 0.01734298 ... 0.         1.         0.16838974]\n",
      " [0.00661247 0.0115287  0.12171097 ... 0.18517438 0.16838974 1.        ]]\n"
     ]
    }
   ],
   "source": [
    "print(cosine_similarities)"
   ]
  },
  {
   "cell_type": "code",
   "execution_count": 10,
   "id": "fa5c8bfd",
   "metadata": {
    "execution": {
     "iopub.execute_input": "2023-11-13T11:00:23.702612Z",
     "iopub.status.busy": "2023-11-13T11:00:23.702334Z",
     "iopub.status.idle": "2023-11-13T11:00:23.708016Z",
     "shell.execute_reply": "2023-11-13T11:00:23.707211Z"
    },
    "papermill": {
     "duration": 0.012905,
     "end_time": "2023-11-13T11:00:23.709875",
     "exception": false,
     "start_time": "2023-11-13T11:00:23.696970",
     "status": "completed"
    },
    "tags": []
   },
   "outputs": [],
   "source": [
    "def find_similar_recipes(ingredients, category, calories, rating, time, recipe_info, vectorizer, cosine_similarities):\n",
    "    query_string = ' '.join([category] + ingredients + [calories] + [time] + [rating])\n",
    "    query_vector = vectorizer.transform([query_string])\n",
    "\n",
    "    # Calculate cosine similarities between the query vector and all recipe vectors\n",
    "    similarities = cosine_similarity(query_vector, recipe_info)\n",
    "\n",
    "    # Get indices of recipes sorted by similarity (descending order)\n",
    "    similar_recipe_indices = similarities.argsort()[0][::-1]\n",
    "\n",
    "    return similar_recipe_indices\n",
    "    "
   ]
  },
  {
   "cell_type": "code",
   "execution_count": 11,
   "id": "8d15d8bd",
   "metadata": {
    "execution": {
     "iopub.execute_input": "2023-11-13T11:00:23.719455Z",
     "iopub.status.busy": "2023-11-13T11:00:23.719207Z",
     "iopub.status.idle": "2023-11-13T11:00:23.749753Z",
     "shell.execute_reply": "2023-11-13T11:00:23.748963Z"
    },
    "papermill": {
     "duration": 0.037855,
     "end_time": "2023-11-13T11:00:23.752022",
     "exception": false,
     "start_time": "2023-11-13T11:00:23.714167",
     "status": "completed"
    },
    "tags": []
   },
   "outputs": [],
   "source": [
    "# Example usage:\n",
    "ingredients_query = [\"butter\", \"pork chops\", \"apple juice concentrate\"]\n",
    "category_query = \"Pork\"\n",
    "calories = \"391.7\"\n",
    "rating = \"-\"\n",
    "totalTime = \"PT25M\"\n",
    "similar_recipes_indices = find_similar_recipes(ingredients_query, category_query, calories, rating, totalTime, vectorized_data, vectorizer, cosine_similarities)"
   ]
  },
  {
   "cell_type": "code",
   "execution_count": 12,
   "id": "964a090c",
   "metadata": {
    "execution": {
     "iopub.execute_input": "2023-11-13T11:00:23.762090Z",
     "iopub.status.busy": "2023-11-13T11:00:23.761785Z",
     "iopub.status.idle": "2023-11-13T11:00:23.768508Z",
     "shell.execute_reply": "2023-11-13T11:00:23.767654Z"
    },
    "papermill": {
     "duration": 0.014418,
     "end_time": "2023-11-13T11:00:23.770987",
     "exception": false,
     "start_time": "2023-11-13T11:00:23.756569",
     "status": "completed"
    },
    "tags": []
   },
   "outputs": [
    {
     "name": "stdout",
     "output_type": "stream",
     "text": [
      "Apple Juiced Pork Chops - Category: Pork\n",
      "   Ingredients: 4       pork chops 2   tablespoons    butter 1   cup    apple juice concentrate\n",
      "   Calories: 391.7\n",
      "   Rating: -\n",
      "   totalTime: PT25M\n",
      "\n",
      "Orange Pork Chops - Category: Pork\n",
      "   Ingredients: 4      pork chops   paprika 1  can    orange juice concentrate, thawed  9.85  ml    cinnamon   rice\n",
      "   Calories: 311.6\n",
      "   Rating: 4.0\n",
      "   totalTime: PT1H\n",
      "\n",
      "Easy Orange Pork - Category: Pork\n",
      "   Ingredients: 4       pork chops 3   teaspoons   Crisco shortening or 3   teaspoons    margarine 1   can    frozen orange juice concentrate\n",
      "   Calories: 421.6\n",
      "   Rating: 5.0\n",
      "   totalTime: PT30M\n",
      "\n",
      "Easy Cooked Pork Chops - Category: Pork\n",
      "   Ingredients: 8       boneless pork loin chops 4   tablespoons    olive oil 2   teaspoons    onions, minced  2 (12   ounce) cans   pork gravy 2   cups    sour cream\n",
      "   Calories: 183.1\n",
      "   Rating: -\n",
      "   totalTime: PT25M\n",
      "\n",
      "Pork Chops - Southern Style - Category: Pork\n",
      "   Ingredients: 2       pork chops 1/2  medium    onion (diced) 1 -2   slice    bacon 2   tablespoons    butter 2   tablespoons    cornstarch 3/4  cup    water   salt & pepper\n",
      "   Calories: 499.9\n",
      "   Rating: 5.0\n",
      "   totalTime: PT25M\n",
      "\n",
      "Pork Chops With Apples and Raisins - Category: Pork\n",
      "   Ingredients:   butter 6       pork loin chops 1/2  cup    frozen apple juice concentrate, thawed  1/4  cup    water 1   teaspoon    beef bouillon powder 1/2  cup   finely chopped onion 1       garlic clove, minced  1/2  teaspoon    thyme, ground  2   large    apples, cored  1/4  cup    raisins 1 1/3  cups    milk 3   tablespoons    flour   salt and pepper\n",
      "   Calories: 405\n",
      "   Rating: 5.0\n",
      "   totalTime: PT45M\n",
      "\n",
      "Boneless Pork Chops - Category: Pork\n",
      "   Ingredients: 4   tablespoons    olive oil 2   teaspoons    coarse salt 1   teaspoon    ground pepper 4       boneless pork chops, 1/4 inch thick \n",
      "   Calories: 407.5\n",
      "   Rating: 4.5\n",
      "   totalTime: PT25M\n",
      "\n",
      "Tangy Fruit Chops - Category: Pork\n",
      "   Ingredients: 4       boneless pork chops 2   teaspoons    vegetable oil 1/2  cup    cranberry sauce 1   teaspoon    prepared mustard 1   teaspoon    vinegar\n",
      "   Calories: 360\n",
      "   Rating: 4.5\n",
      "   totalTime: PT25M\n",
      "\n",
      "Pork Normandy - Category: Pork\n",
      "   Ingredients: 1   tablespoon    olive oil 6 1/2  inches   thick pork chops 1   can    cream of mushroom soup 1   medium    apple, chopped  1/2  cup    dry white wine 1/2  cup   sliced celery 1/4  teaspoon    thyme\n",
      "   Calories: 92.5\n",
      "   Rating: 4.5\n",
      "   totalTime: PT40M\n",
      "\n",
      "Herbed Pork Chops - Category: Pork\n",
      "   Ingredients: 1   tablespoon    vegetable oil 2   lbs    pork loin chops (about 1 inch thick) or 2   lbs    pork chops (about 1 inch thick) 6   tablespoons    fresh lemon juice 6   tablespoons    water 1   teaspoon    thyme or 1   teaspoon    rosemary, crumbled  1/2  teaspoon    salt 1/4  teaspoon    fresh ground black pepper\n",
      "   Calories: 761.4\n",
      "   Rating: 4.5\n",
      "   totalTime: PT25M\n",
      "\n"
     ]
    }
   ],
   "source": [
    "# Print the results\n",
    "count = 0\n",
    "number_of_desired_recipes = 10\n",
    "\n",
    "for idx in similar_recipes_indices:\n",
    "    count = count + 1\n",
    "    recipe = recipe_info[idx]\n",
    "    if count <= number_of_desired_recipes:\n",
    "        print(f\"{recipe['name']} - Category: {recipe['category']}\")\n",
    "        print(f\"   Ingredients: {recipe['ingredients']}\")\n",
    "        print(f\"   Calories: {recipe['calories']}\")\n",
    "        print(f\"   Rating: {recipe['rating']}\")\n",
    "        print(f\"   totalTime: {recipe['totalTime']}\")\n",
    "        print()\n",
    "    \n",
    "    else:\n",
    "        break;"
   ]
  },
  {
   "cell_type": "code",
   "execution_count": 13,
   "id": "31e29c1a",
   "metadata": {
    "execution": {
     "iopub.execute_input": "2023-11-13T11:00:23.780885Z",
     "iopub.status.busy": "2023-11-13T11:00:23.780631Z",
     "iopub.status.idle": "2023-11-13T11:00:23.784562Z",
     "shell.execute_reply": "2023-11-13T11:00:23.783804Z"
    },
    "papermill": {
     "duration": 0.01104,
     "end_time": "2023-11-13T11:00:23.786422",
     "exception": false,
     "start_time": "2023-11-13T11:00:23.775382",
     "status": "completed"
    },
    "tags": []
   },
   "outputs": [],
   "source": [
    "f.close()"
   ]
  }
 ],
 "metadata": {
  "kernelspec": {
   "display_name": "Python 3",
   "language": "python",
   "name": "python3"
  },
  "language_info": {
   "codemirror_mode": {
    "name": "ipython",
    "version": 3
   },
   "file_extension": ".py",
   "mimetype": "text/x-python",
   "name": "python",
   "nbconvert_exporter": "python",
   "pygments_lexer": "ipython3",
   "version": "3.10.12"
  },
  "papermill": {
   "default_parameters": {},
   "duration": 48.014605,
   "end_time": "2023-11-13T11:00:24.811129",
   "environment_variables": {},
   "exception": null,
   "input_path": "__notebook__.ipynb",
   "output_path": "__notebook__.ipynb",
   "parameters": {},
   "start_time": "2023-11-13T10:59:36.796524",
   "version": "2.4.0"
  }
 },
 "nbformat": 4,
 "nbformat_minor": 5
}
