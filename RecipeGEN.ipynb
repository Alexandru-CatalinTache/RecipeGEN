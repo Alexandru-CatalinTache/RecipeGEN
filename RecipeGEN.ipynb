{
  "nbformat": 4,
  "nbformat_minor": 0,
  "metadata": {
    "colab": {
      "provenance": [],
      "gpuType": "T4",
      "include_colab_link": true
    },
    "kernelspec": {
      "name": "python3",
      "display_name": "Python 3"
    },
    "language_info": {
      "name": "python"
    },
    "accelerator": "GPU"
  },
  "cells": [
    {
      "cell_type": "markdown",
      "metadata": {
        "id": "view-in-github",
        "colab_type": "text"
      },
      "source": [
        "<a href=\"https://colab.research.google.com/github/Alexandru-CatalinTache/RecipeGEN/blob/main/RecipeGEN.ipynb\" target=\"_parent\"><img src=\"https://colab.research.google.com/assets/colab-badge.svg\" alt=\"Open In Colab\"/></a>"
      ]
    },
    {
      "cell_type": "markdown",
      "source": [
        "RecipeGEN"
      ],
      "metadata": {
        "id": "vxu0I7TZaBRB"
      }
    },
    {
      "cell_type": "code",
      "execution_count": 1,
      "metadata": {
        "id": "k5knTawoaABI"
      },
      "outputs": [],
      "source": [
        "from sklearn.feature_extraction.text import CountVectorizer\n",
        "from sklearn.metrics.pairwise import cosine_similarity\n",
        "import json"
      ]
    },
    {
      "cell_type": "code",
      "source": [
        "f = open('recipes.json')\n",
        "recipes = json.load(f)"
      ],
      "metadata": {
        "id": "MkXB_EOSejJ_"
      },
      "execution_count": 3,
      "outputs": []
    },
    {
      "cell_type": "code",
      "source": [
        "recipe_info = [\n",
        "    {\n",
        "        \"name\": recipe.get(\"name\", \"Recipe Name Not Found\"),\n",
        "        \"category\": recipe.get(\"recipeCategory\", \"Category Not Found\"),\n",
        "        \"ingredients\": ' '.join(recipe.get(\"recipeIngredient\", [])),  # Convert list to string\n",
        "        \"nutrition\": recipe.get(\"nutrition\", {})\n",
        "    }\n",
        "    for recipe in recipes\n",
        "]"
      ],
      "metadata": {
        "id": "uL__bdvRtNQi"
      },
      "execution_count": 4,
      "outputs": []
    },
    {
      "cell_type": "code",
      "source": [
        "recipe_info"
      ],
      "metadata": {
        "id": "ah3tzV3qtqgW"
      },
      "execution_count": 22,
      "outputs": []
    },
    {
      "cell_type": "code",
      "source": [
        "recipe_strings = [' '.join([recipe[\"name\"], recipe[\"category\"], recipe[\"ingredients\"]]) for recipe in recipe_info]"
      ],
      "metadata": {
        "id": "to01nTQkvDpj"
      },
      "execution_count": 5,
      "outputs": []
    },
    {
      "cell_type": "code",
      "source": [
        "vectorizer = CountVectorizer().fit_transform(recipe_strings)"
      ],
      "metadata": {
        "id": "UQ3b0jYBvVZl"
      },
      "execution_count": 6,
      "outputs": []
    },
    {
      "cell_type": "code",
      "source": [
        "cosine_similarities = cosine_similarity(vectorizer)"
      ],
      "metadata": {
        "id": "PrEQT4y5vazv"
      },
      "execution_count": null,
      "outputs": []
    },
    {
      "cell_type": "code",
      "source": [
        "f.close()"
      ],
      "metadata": {
        "id": "doKs6snwjWyr"
      },
      "execution_count": null,
      "outputs": []
    }
  ]
}